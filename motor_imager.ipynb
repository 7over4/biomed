{
 "cells": [
  {
   "cell_type": "code",
   "execution_count": 2,
   "metadata": {},
   "outputs": [],
   "source": [
    "from brainflow.board_shim import BoardShim, BrainFlowInputParams, BoardIds\n",
    "from brainflow.data_filter import DataFilter, FilterTypes, AggOperations, WindowOperations, DetrendOperations\n",
    "\n",
    "import serial.tools.list_ports\n",
    "import time\n",
    "\n",
    "import numpy as np\n",
    "import matplotlib.pyplot as plt"
   ]
  },
  {
   "cell_type": "code",
   "execution_count": 3,
   "metadata": {},
   "outputs": [
    {
     "name": "stdout",
     "output_type": "stream",
     "text": [
      "/dev/cu.Bluetooth-Incoming-Port: n/a [n/a]\n",
      "/dev/cu.usbmodem11: Low Energy Dongle [USB VID:PID=2458:0001 SER=1 LOCATION=0-1]\n"
     ]
    }
   ],
   "source": [
    "ports = serial.tools.list_ports.comports()\n",
    "\n",
    "for port, desc, hwid in sorted(ports):\n",
    "    print(f\"{port}: {desc} [{hwid}]\")"
   ]
  },
  {
   "cell_type": "code",
   "execution_count": 4,
   "metadata": {},
   "outputs": [],
   "source": [
    "serial_port = \"/dev/cu.usbmodem11\""
   ]
  },
  {
   "cell_type": "code",
   "execution_count": 5,
   "metadata": {},
   "outputs": [],
   "source": [
    "def get_alpha_beta(board, board_id):\n",
    "    data = board.get_current_board_data(256)\n",
    "\n",
    "    eeg_channels = BoardShim.get_eeg_channels(board_id)\n",
    "    eeg_channel = eeg_channels[1]\n",
    "    sampling_rate = BoardShim.get_sampling_rate(board_id)\n",
    "    nfft = DataFilter.get_nearest_power_of_two(sampling_rate)\n",
    "    DataFilter.detrend(data[eeg_channel], DetrendOperations.LINEAR.value)\n",
    "    psd = DataFilter.get_psd_welch(data[eeg_channel], nfft, nfft // 2, sampling_rate, WindowOperations.HANNING.value)\n",
    "\n",
    "    # calc band power\n",
    "    alpha = DataFilter.get_band_power(psd, 7.0, 13.0)\n",
    "    beta = DataFilter.get_band_power(psd, 14.0, 30.0)\n",
    "\n",
    "    # print(alpha)\n",
    "    return alpha"
   ]
  },
  {
   "cell_type": "code",
   "execution_count": 6,
   "metadata": {},
   "outputs": [
    {
     "name": "stderr",
     "output_type": "stream",
     "text": [
      "[2023-11-05 17:21:19.418] [board_logger] [info] incoming json: {\n",
      "    \"file\": \"\",\n",
      "    \"file_anc\": \"\",\n",
      "    \"file_aux\": \"\",\n",
      "    \"ip_address\": \"\",\n",
      "    \"ip_address_anc\": \"\",\n",
      "    \"ip_address_aux\": \"\",\n",
      "    \"ip_port\": 0,\n",
      "    \"ip_port_anc\": 0,\n",
      "    \"ip_port_aux\": 0,\n",
      "    \"ip_protocol\": 0,\n",
      "    \"mac_address\": \"\",\n",
      "    \"master_board\": -100,\n",
      "    \"other_info\": \"\",\n",
      "    \"serial_number\": \"\",\n",
      "    \"serial_port\": \"/dev/cu.usbmodem11\",\n",
      "    \"timeout\": 0\n",
      "}\n",
      "[2023-11-05 17:21:19.643] [board_logger] [info] use 15 as a timeout for device discovery and for callbacks\n",
      "[2023-11-05 17:21:19.643] [board_logger] [info] mac address is not specified, try to find ganglion without it\n",
      "[2023-11-05 17:21:25.688] [board_logger] [info] detected firmware version 2\n",
      "[2023-11-05 17:21:25.688] [board_logger] [error] Make sure you provided correct port name and have permissions to open it(run with sudo/admin). And close all other apps using this port.\n",
      "[2023-11-05 17:21:25.688] [board_logger] [error] failed to Open Ganglion Device 18\n"
     ]
    },
    {
     "ename": "KeyboardInterrupt",
     "evalue": "",
     "output_type": "error",
     "traceback": [
      "\u001b[0;31m---------------------------------------------------------------------------\u001b[0m",
      "\u001b[0;31mKeyboardInterrupt\u001b[0m                         Traceback (most recent call last)",
      "\u001b[1;32m/Users/sun/code/biomed/motor_imager.ipynb Cell 5\u001b[0m line \u001b[0;36m1\n\u001b[1;32m      <a href='vscode-notebook-cell:/Users/sun/code/biomed/motor_imager.ipynb#W4sZmlsZQ%3D%3D?line=8'>9</a>\u001b[0m \u001b[39mif\u001b[39;00m board\u001b[39m.\u001b[39mis_prepared():\n\u001b[1;32m     <a href='vscode-notebook-cell:/Users/sun/code/biomed/motor_imager.ipynb#W4sZmlsZQ%3D%3D?line=9'>10</a>\u001b[0m         board\u001b[39m.\u001b[39mrelease_session()\n\u001b[0;32m---> <a href='vscode-notebook-cell:/Users/sun/code/biomed/motor_imager.ipynb#W4sZmlsZQ%3D%3D?line=10'>11</a>\u001b[0m board\u001b[39m.\u001b[39;49mprepare_session()\n\u001b[1;32m     <a href='vscode-notebook-cell:/Users/sun/code/biomed/motor_imager.ipynb#W4sZmlsZQ%3D%3D?line=11'>12</a>\u001b[0m board\u001b[39m.\u001b[39mstart_stream()\n\u001b[1;32m     <a href='vscode-notebook-cell:/Users/sun/code/biomed/motor_imager.ipynb#W4sZmlsZQ%3D%3D?line=13'>14</a>\u001b[0m \u001b[39m# retrive data\u001b[39;00m\n",
      "File \u001b[0;32m~/miniconda3/envs/biomed/lib/python3.11/site-packages/brainflow/board_shim.py:1177\u001b[0m, in \u001b[0;36mBoardShim.prepare_session\u001b[0;34m(self)\u001b[0m\n\u001b[1;32m   1174\u001b[0m \u001b[39mdef\u001b[39;00m \u001b[39mprepare_session\u001b[39m(\u001b[39mself\u001b[39m) \u001b[39m-\u001b[39m\u001b[39m>\u001b[39m \u001b[39mNone\u001b[39;00m:\n\u001b[1;32m   1175\u001b[0m \u001b[39m    \u001b[39m\u001b[39m\"\"\"prepare streaming sesssion, init resources, you need to call it before any other BoardShim object methods\"\"\"\u001b[39;00m\n\u001b[0;32m-> 1177\u001b[0m     res \u001b[39m=\u001b[39m BoardControllerDLL\u001b[39m.\u001b[39;49mget_instance()\u001b[39m.\u001b[39;49mprepare_session(\u001b[39mself\u001b[39;49m\u001b[39m.\u001b[39;49mboard_id, \u001b[39mself\u001b[39;49m\u001b[39m.\u001b[39;49minput_json)\n\u001b[1;32m   1178\u001b[0m     \u001b[39mif\u001b[39;00m res \u001b[39m!=\u001b[39m BrainFlowExitCodes\u001b[39m.\u001b[39mSTATUS_OK\u001b[39m.\u001b[39mvalue:\n\u001b[1;32m   1179\u001b[0m         \u001b[39mraise\u001b[39;00m BrainFlowError(\u001b[39m'\u001b[39m\u001b[39munable to prepare streaming session\u001b[39m\u001b[39m'\u001b[39m, res)\n",
      "\u001b[0;31mKeyboardInterrupt\u001b[0m: "
     ]
    }
   ],
   "source": [
    "# setup\n",
    "board_id = BoardIds.GANGLION_BOARD\n",
    "params = BrainFlowInputParams()\n",
    "params.serial_port = serial_port\n",
    "\n",
    "# create a board\n",
    "board = BoardShim(board_id, params)\n",
    "\n",
    "if board.is_prepared():\n",
    "        board.release_session()\n",
    "board.prepare_session()\n",
    "board.start_stream()\n",
    "\n",
    "# retrive data\n",
    "data = []\n",
    "try:\n",
    "    time.sleep(5)\n",
    "    while len(data) < 50:\n",
    "        time.sleep(1)\n",
    "        datum = get_alpha_beta(board, board_id)\n",
    "        data.append(datum)\n",
    "finally:\n",
    "    if board.is_prepared():\n",
    "        board.release_session()\n",
    "\n",
    "plt.plot(data)\n",
    "plt.show()"
   ]
  },
  {
   "cell_type": "code",
   "execution_count": 7,
   "metadata": {},
   "outputs": [
    {
     "name": "stderr",
     "output_type": "stream",
     "text": [
      "/Users/sun/miniconda3/envs/biomed/lib/python3.11/site-packages/tqdm/auto.py:21: TqdmWarning: IProgress not found. Please update jupyter and ipywidgets. See https://ipywidgets.readthedocs.io/en/stable/user_install.html\n",
      "  from .autonotebook import tqdm as notebook_tqdm\n"
     ]
    },
    {
     "ename": "KeyboardInterrupt",
     "evalue": "",
     "output_type": "error",
     "traceback": [
      "\u001b[0;31m---------------------------------------------------------------------------\u001b[0m",
      "\u001b[0;31mKeyboardInterrupt\u001b[0m                         Traceback (most recent call last)",
      "\u001b[1;32m/Users/sun/code/biomed/motor_imager.ipynb Cell 6\u001b[0m line \u001b[0;36m3\n\u001b[1;32m      <a href='vscode-notebook-cell:/Users/sun/code/biomed/motor_imager.ipynb#W5sZmlsZQ%3D%3D?line=0'>1</a>\u001b[0m \u001b[39mimport\u001b[39;00m \u001b[39mpickle\u001b[39;00m\n\u001b[1;32m      <a href='vscode-notebook-cell:/Users/sun/code/biomed/motor_imager.ipynb#W5sZmlsZQ%3D%3D?line=1'>2</a>\u001b[0m \u001b[39mfrom\u001b[39;00m \u001b[39mhuggingface_hub\u001b[39;00m \u001b[39mimport\u001b[39;00m hf_hub_download\n\u001b[0;32m----> <a href='vscode-notebook-cell:/Users/sun/code/biomed/motor_imager.ipynb#W5sZmlsZQ%3D%3D?line=2'>3</a>\u001b[0m \u001b[39mfrom\u001b[39;00m \u001b[39mbraindecode\u001b[39;00m\u001b[39m.\u001b[39;00m\u001b[39mmodels\u001b[39;00m \u001b[39mimport\u001b[39;00m EEGNetv4\n\u001b[1;32m      <a href='vscode-notebook-cell:/Users/sun/code/biomed/motor_imager.ipynb#W5sZmlsZQ%3D%3D?line=3'>4</a>\u001b[0m \u001b[39mimport\u001b[39;00m \u001b[39mtorch\u001b[39;00m\n\u001b[1;32m      <a href='vscode-notebook-cell:/Users/sun/code/biomed/motor_imager.ipynb#W5sZmlsZQ%3D%3D?line=5'>6</a>\u001b[0m \u001b[39m# download the model from the hub:\u001b[39;00m\n",
      "File \u001b[0;32m~/miniconda3/envs/biomed/lib/python3.11/site-packages/braindecode/__init__.py:3\u001b[0m\n\u001b[1;32m      1\u001b[0m \u001b[39mfrom\u001b[39;00m \u001b[39m.\u001b[39;00m\u001b[39mversion\u001b[39;00m \u001b[39mimport\u001b[39;00m __version__\n\u001b[0;32m----> 3\u001b[0m \u001b[39mfrom\u001b[39;00m \u001b[39m.\u001b[39;00m\u001b[39mclassifier\u001b[39;00m \u001b[39mimport\u001b[39;00m EEGClassifier\n\u001b[1;32m      4\u001b[0m \u001b[39mfrom\u001b[39;00m \u001b[39m.\u001b[39;00m\u001b[39mregressor\u001b[39;00m \u001b[39mimport\u001b[39;00m EEGRegressor\n",
      "File \u001b[0;32m~/miniconda3/envs/biomed/lib/python3.11/site-packages/braindecode/classifier.py:21\u001b[0m\n\u001b[1;32m     15\u001b[0m \u001b[39mimport\u001b[39;00m \u001b[39mtorch\u001b[39;00m\n\u001b[1;32m     17\u001b[0m \u001b[39mfrom\u001b[39;00m \u001b[39m.\u001b[39;00m\u001b[39mtraining\u001b[39;00m\u001b[39m.\u001b[39;00m\u001b[39mscoring\u001b[39;00m \u001b[39mimport\u001b[39;00m (PostEpochTrainScoring,\n\u001b[1;32m     18\u001b[0m                                CroppedTrialEpochScoring,\n\u001b[1;32m     19\u001b[0m                                CroppedTimeSeriesEpochScoring,\n\u001b[1;32m     20\u001b[0m                                predict_trials)\n\u001b[0;32m---> 21\u001b[0m \u001b[39mfrom\u001b[39;00m \u001b[39m.\u001b[39;00m\u001b[39mutil\u001b[39;00m \u001b[39mimport\u001b[39;00m ThrowAwayIndexLoader, update_estimator_docstring\n\u001b[1;32m     24\u001b[0m \u001b[39mclass\u001b[39;00m \u001b[39mEEGClassifier\u001b[39;00m(NeuralNetClassifier):\n\u001b[1;32m     25\u001b[0m     doc \u001b[39m=\u001b[39m \u001b[39m\"\"\"\u001b[39m\u001b[39mClassifier that does not assume softmax activation.\u001b[39m\n\u001b[1;32m     26\u001b[0m \u001b[39m    Calls loss function directly without applying log or anything.\u001b[39m\n\u001b[1;32m     27\u001b[0m \n\u001b[0;32m   (...)\u001b[0m\n\u001b[1;32m     57\u001b[0m \n\u001b[1;32m     58\u001b[0m \u001b[39m    \u001b[39m\u001b[39m\"\"\"\u001b[39m  \u001b[39m# noqa: E501\u001b[39;00m\n",
      "File \u001b[0;32m~/miniconda3/envs/biomed/lib/python3.11/site-packages/braindecode/util.py:10\u001b[0m\n\u001b[1;32m      7\u001b[0m \u001b[39mimport\u001b[39;00m \u001b[39mrandom\u001b[39;00m\n\u001b[1;32m      8\u001b[0m \u001b[39mfrom\u001b[39;00m \u001b[39mwarnings\u001b[39;00m \u001b[39mimport\u001b[39;00m warn\n\u001b[0;32m---> 10\u001b[0m \u001b[39mimport\u001b[39;00m \u001b[39mh5py\u001b[39;00m\n\u001b[1;32m     11\u001b[0m \u001b[39mimport\u001b[39;00m \u001b[39mmne\u001b[39;00m\n\u001b[1;32m     12\u001b[0m \u001b[39mimport\u001b[39;00m \u001b[39mnumpy\u001b[39;00m \u001b[39mas\u001b[39;00m \u001b[39mnp\u001b[39;00m\n",
      "File \u001b[0;32m~/miniconda3/envs/biomed/lib/python3.11/site-packages/h5py/__init__.py:56\u001b[0m\n\u001b[1;32m     51\u001b[0m _register_lzf()\n\u001b[1;32m     54\u001b[0m \u001b[39m# --- Public API --------------------------------------------------------------\u001b[39;00m\n\u001b[0;32m---> 56\u001b[0m \u001b[39mfrom\u001b[39;00m \u001b[39m.\u001b[39;00m \u001b[39mimport\u001b[39;00m h5a, h5d, h5ds, h5f, h5fd, h5g, h5r, h5s, h5t, h5p, h5z, h5pl\n\u001b[1;32m     58\u001b[0m \u001b[39mfrom\u001b[39;00m \u001b[39m.\u001b[39;00m\u001b[39m_hl\u001b[39;00m \u001b[39mimport\u001b[39;00m filters\n\u001b[1;32m     59\u001b[0m \u001b[39mfrom\u001b[39;00m \u001b[39m.\u001b[39;00m\u001b[39m_hl\u001b[39;00m\u001b[39m.\u001b[39;00m\u001b[39mbase\u001b[39;00m \u001b[39mimport\u001b[39;00m is_hdf5, HLObject, Empty\n",
      "File \u001b[0;32mh5py/h5f.pyx:1\u001b[0m, in \u001b[0;36minit h5py.h5f\u001b[0;34m()\u001b[0m\n",
      "File \u001b[0;32m<frozen importlib._bootstrap>:405\u001b[0m, in \u001b[0;36mparent\u001b[0;34m(self)\u001b[0m\n",
      "\u001b[0;31mKeyboardInterrupt\u001b[0m: "
     ]
    }
   ],
   "source": [
    "import pickle\n",
    "from huggingface_hub import hf_hub_download\n",
    "from braindecode.models import EEGNetv4\n",
    "import torch\n",
    "\n",
    "# download the model from the hub:\n",
    "path_kwargs = hf_hub_download(\n",
    "    repo_id='PierreGtch/EEGNetv4',\n",
    "    filename='EEGNetv4_BNCI2014004/kwargs.pkl',\n",
    ")\n",
    "path_params = hf_hub_download(\n",
    "    repo_id='PierreGtch/EEGNetv4',\n",
    "    filename='EEGNetv4_BNCI2014004/model-params.pkl',\n",
    ")\n",
    "with open(path_kwargs, 'rb') as f:\n",
    "    kwargs = pickle.load(f)\n",
    "module_cls = kwargs['module_cls']\n",
    "module_kwargs = kwargs['module_kwargs']\n",
    "\n",
    "# load the model with pre-trained weights:\n",
    "model = module_cls(**module_kwargs)"
   ]
  }
 ],
 "metadata": {
  "kernelspec": {
   "display_name": "biomed",
   "language": "python",
   "name": "python3"
  },
  "language_info": {
   "codemirror_mode": {
    "name": "ipython",
    "version": 3
   },
   "file_extension": ".py",
   "mimetype": "text/x-python",
   "name": "python",
   "nbconvert_exporter": "python",
   "pygments_lexer": "ipython3",
   "version": "3.11.5"
  }
 },
 "nbformat": 4,
 "nbformat_minor": 2
}
